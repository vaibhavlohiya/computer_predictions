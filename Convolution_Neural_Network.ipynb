{
 "cells": [
  {
   "cell_type": "markdown",
   "metadata": {},
   "source": [
    "## Convolution Neural Network"
   ]
  },
  {
   "cell_type": "markdown",
   "metadata": {},
   "source": [
    "#### Importing the libraries"
   ]
  },
  {
   "cell_type": "code",
   "execution_count": 1,
   "metadata": {},
   "outputs": [],
   "source": [
    "import tensorflow as tf\n",
    "from keras.preprocessing.image import ImageDataGenerator"
   ]
  },
  {
   "cell_type": "markdown",
   "metadata": {},
   "source": [
    "### Part 1 - Data Preprocessing"
   ]
  },
  {
   "cell_type": "markdown",
   "metadata": {},
   "source": [
    "#### Processing the training set "
   ]
  },
  {
   "cell_type": "code",
   "execution_count": 6,
   "metadata": {},
   "outputs": [
    {
     "name": "stdout",
     "output_type": "stream",
     "text": [
      "Found 8000 images belonging to 2 classes.\n"
     ]
    }
   ],
   "source": [
    "train_datagen = ImageDataGenerator(\n",
    "        rescale = 1./255,\n",
    "        shear_range = 0.2,\n",
    "        zoom_range = 0.2,\n",
    "        horizontal_flip = True)\n",
    "training_set = train_datagen.flow_from_directory(\n",
    "        'C:/Users/RD/Desktop/machine_learning/Jupyter/dataset/training_set',\n",
    "        target_size = (64, 64),\n",
    "        batch_size = 32,\n",
    "        class_mode = 'binary') "
   ]
  },
  {
   "cell_type": "markdown",
   "metadata": {},
   "source": [
    "#### Processing the test set "
   ]
  },
  {
   "cell_type": "code",
   "execution_count": 7,
   "metadata": {},
   "outputs": [
    {
     "name": "stdout",
     "output_type": "stream",
     "text": [
      "Found 2000 images belonging to 2 classes.\n"
     ]
    }
   ],
   "source": [
    "test_datagen = ImageDataGenerator(rescale = 1./255)\n",
    "test_set = test_datagen.flow_from_directory(\n",
    "        'C:/Users/RD/Desktop/machine_learning/Jupyter/dataset/test_set',\n",
    "        target_size = (64, 64),\n",
    "        batch_size = 32,\n",
    "        class_mode = 'binary') "
   ]
  },
  {
   "cell_type": "markdown",
   "metadata": {},
   "source": [
    "### Part 2 -  Building the CNN"
   ]
  },
  {
   "cell_type": "markdown",
   "metadata": {},
   "source": [
    "#### Initialising the CNN"
   ]
  },
  {
   "cell_type": "code",
   "execution_count": 8,
   "metadata": {},
   "outputs": [],
   "source": [
    "cnn = tf.keras.models.Sequential()"
   ]
  },
  {
   "cell_type": "markdown",
   "metadata": {},
   "source": [
    "#### Step 1 - Convolution"
   ]
  },
  {
   "cell_type": "code",
   "execution_count": 9,
   "metadata": {},
   "outputs": [],
   "source": [
    "cnn.add(tf.keras.layers.Conv2D(filters = 32, kernel_size = 3, activation = 'relu', input_shape = [64, 64, 3]))"
   ]
  },
  {
   "cell_type": "markdown",
   "metadata": {},
   "source": [
    "#### Step 2 - Pooling"
   ]
  },
  {
   "cell_type": "code",
   "execution_count": 10,
   "metadata": {},
   "outputs": [],
   "source": [
    "cnn.add(tf.keras.layers.MaxPool2D(pool_size = 2, strides = 2))"
   ]
  },
  {
   "cell_type": "markdown",
   "metadata": {},
   "source": [
    "#### Adding a second convolution layer"
   ]
  },
  {
   "cell_type": "code",
   "execution_count": 11,
   "metadata": {},
   "outputs": [],
   "source": [
    "cnn.add(tf.keras.layers.Conv2D(filters = 32, kernel_size = 3, activation = 'relu'))\n",
    "cnn.add(tf.keras.layers.MaxPool2D(pool_size = 2, strides = 2))"
   ]
  },
  {
   "cell_type": "markdown",
   "metadata": {},
   "source": [
    "#### Step 3 - Flattening"
   ]
  },
  {
   "cell_type": "code",
   "execution_count": 12,
   "metadata": {},
   "outputs": [],
   "source": [
    "cnn.add(tf.keras.layers.Flatten())"
   ]
  },
  {
   "cell_type": "markdown",
   "metadata": {},
   "source": [
    "#### Step 4 - Full Connection "
   ]
  },
  {
   "cell_type": "code",
   "execution_count": 13,
   "metadata": {},
   "outputs": [],
   "source": [
    "cnn.add(tf.keras.layers.Dense(units = 128, activation = 'relu'))"
   ]
  },
  {
   "cell_type": "markdown",
   "metadata": {},
   "source": [
    "#### Step 5 - Output Layer"
   ]
  },
  {
   "cell_type": "code",
   "execution_count": 14,
   "metadata": {},
   "outputs": [],
   "source": [
    "cnn.add(tf.keras.layers.Dense(units = 1, activation = 'sigmoid'))"
   ]
  },
  {
   "cell_type": "markdown",
   "metadata": {},
   "source": [
    "### Part 3 - Training the CNN"
   ]
  },
  {
   "cell_type": "markdown",
   "metadata": {},
   "source": [
    "#### Compiling the CNN"
   ]
  },
  {
   "cell_type": "code",
   "execution_count": 15,
   "metadata": {},
   "outputs": [],
   "source": [
    "cnn.compile(optimizer = 'adam', loss = 'binary_crossentropy', metrics = ['accuracy'])"
   ]
  },
  {
   "cell_type": "markdown",
   "metadata": {},
   "source": [
    "#### Training the CNN on the training set and evaluating on the test set "
   ]
  },
  {
   "cell_type": "code",
   "execution_count": 16,
   "metadata": {},
   "outputs": [
    {
     "name": "stdout",
     "output_type": "stream",
     "text": [
      "Epoch 1/25\n",
      "250/250 [==============================] - 604s 2s/step - loss: 0.6683 - accuracy: 0.5865\n",
      "Epoch 2/25\n",
      "250/250 [==============================] - 57s 230ms/step - loss: 0.6019 - accuracy: 0.6783\n",
      "Epoch 3/25\n",
      "250/250 [==============================] - 97s 386ms/step - loss: 0.5553 - accuracy: 0.7168\n",
      "Epoch 4/25\n",
      "250/250 [==============================] - 89s 358ms/step - loss: 0.5257 - accuracy: 0.7352\n",
      "Epoch 5/25\n",
      "250/250 [==============================] - 102s 410ms/step - loss: 0.5049 - accuracy: 0.7569\n",
      "Epoch 6/25\n",
      "250/250 [==============================] - 89s 355ms/step - loss: 0.4844 - accuracy: 0.7651\n",
      "Epoch 7/25\n",
      "250/250 [==============================] - 83s 333ms/step - loss: 0.4675 - accuracy: 0.7734\n",
      "Epoch 8/25\n",
      "250/250 [==============================] - 70s 278ms/step - loss: 0.4480 - accuracy: 0.7885\n",
      "Epoch 9/25\n",
      "250/250 [==============================] - 48s 190ms/step - loss: 0.4336 - accuracy: 0.7929\n",
      "Epoch 10/25\n",
      "250/250 [==============================] - 60s 239ms/step - loss: 0.4238 - accuracy: 0.8054\n",
      "Epoch 11/25\n",
      "250/250 [==============================] - 62s 249ms/step - loss: 0.4071 - accuracy: 0.8156\n",
      "Epoch 12/25\n",
      "250/250 [==============================] - 64s 257ms/step - loss: 0.3993 - accuracy: 0.8148\n",
      "Epoch 13/25\n",
      "250/250 [==============================] - 57s 230ms/step - loss: 0.3848 - accuracy: 0.8217\n",
      "Epoch 14/25\n",
      "250/250 [==============================] - 72s 288ms/step - loss: 0.3671 - accuracy: 0.8347\n",
      "Epoch 15/25\n",
      "250/250 [==============================] - 68s 270ms/step - loss: 0.3548 - accuracy: 0.8444\n",
      "Epoch 16/25\n",
      "250/250 [==============================] - 67s 268ms/step - loss: 0.3558 - accuracy: 0.8394\n",
      "Epoch 17/25\n",
      "250/250 [==============================] - 68s 272ms/step - loss: 0.3294 - accuracy: 0.8554\n",
      "Epoch 18/25\n",
      "250/250 [==============================] - 75s 301ms/step - loss: 0.3249 - accuracy: 0.8624\n",
      "Epoch 19/25\n",
      "250/250 [==============================] - 62s 250ms/step - loss: 0.3088 - accuracy: 0.8659\n",
      "Epoch 20/25\n",
      "250/250 [==============================] - 58s 233ms/step - loss: 0.3017 - accuracy: 0.8686\n",
      "Epoch 21/25\n",
      "250/250 [==============================] - 67s 268ms/step - loss: 0.2857 - accuracy: 0.8777\n",
      "Epoch 22/25\n",
      "250/250 [==============================] - 52s 208ms/step - loss: 0.2796 - accuracy: 0.8813\n",
      "Epoch 23/25\n",
      "250/250 [==============================] - 43s 172ms/step - loss: 0.2658 - accuracy: 0.8867\n",
      "Epoch 24/25\n",
      "250/250 [==============================] - 43s 171ms/step - loss: 0.2559 - accuracy: 0.8961\n",
      "Epoch 25/25\n",
      "250/250 [==============================] - 43s 173ms/step - loss: 0.2350 - accuracy: 0.9005\n"
     ]
    },
    {
     "data": {
      "text/plain": [
       "<keras.callbacks.History at 0x29ad6fd1648>"
      ]
     },
     "execution_count": 16,
     "metadata": {},
     "output_type": "execute_result"
    }
   ],
   "source": [
    "cnn.fit(x = training_set,\n",
    "        epochs = 25)"
   ]
  },
  {
   "cell_type": "markdown",
   "metadata": {},
   "source": [
    "### Part 4 - Making a single prediction"
   ]
  },
  {
   "cell_type": "code",
   "execution_count": null,
   "metadata": {},
   "outputs": [],
   "source": [
    "import numpy as np\n",
    "from keras.preprocessing import image\n",
    "test_image = image.load_img('C:/Users/RD/Desktop/machine_learning/Jupyter/dataset/single_prediction/cat_or_dog_1.jpg', target_size = (64, 64))\n",
    "test_image = image.img_to_array(test_image)\n",
    "test_image = np.expand_dims(test_image, axis = 0)\n",
    "result = cnn.predict(test_image)\n",
    "training_set.class_indices\n",
    "if result[0][0] == 1:\n",
    "    prediction = 'dog'\n",
    "else:\n",
    "    prediction = 'cat'"
   ]
  },
  {
   "cell_type": "code",
   "execution_count": null,
   "metadata": {},
   "outputs": [],
   "source": [
    "print(prediction)"
   ]
  }
 ],
 "metadata": {
  "interpreter": {
   "hash": "4c2ff67547a3adfb80d0152a41f06057e5c2645c0e2dbaf597649519ae012929"
  },
  "kernelspec": {
   "display_name": "Python 3.7.9 64-bit",
   "language": "python",
   "name": "python3"
  },
  "language_info": {
   "codemirror_mode": {
    "name": "ipython",
    "version": 3
   },
   "file_extension": ".py",
   "mimetype": "text/x-python",
   "name": "python",
   "nbconvert_exporter": "python",
   "pygments_lexer": "ipython3",
   "version": "3.7.9"
  },
  "orig_nbformat": 4
 },
 "nbformat": 4,
 "nbformat_minor": 2
}
